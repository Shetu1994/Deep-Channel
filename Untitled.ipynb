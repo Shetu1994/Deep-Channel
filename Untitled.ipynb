{
 "cells": [
  {
   "cell_type": "code",
   "execution_count": 1,
   "metadata": {},
   "outputs": [
    {
     "name": "stderr",
     "output_type": "stream",
     "text": [
      "c:\\users\\shetu\\anaconda3\\envs\\thesis_shetu\\lib\\site-packages\\tensorflow\\python\\framework\\dtypes.py:523: FutureWarning: Passing (type, 1) or '1type' as a synonym of type is deprecated; in a future version of numpy, it will be understood as (type, (1,)) / '(1,)type'.\n",
      "  _np_qint8 = np.dtype([(\"qint8\", np.int8, 1)])\n",
      "c:\\users\\shetu\\anaconda3\\envs\\thesis_shetu\\lib\\site-packages\\tensorflow\\python\\framework\\dtypes.py:524: FutureWarning: Passing (type, 1) or '1type' as a synonym of type is deprecated; in a future version of numpy, it will be understood as (type, (1,)) / '(1,)type'.\n",
      "  _np_quint8 = np.dtype([(\"quint8\", np.uint8, 1)])\n",
      "c:\\users\\shetu\\anaconda3\\envs\\thesis_shetu\\lib\\site-packages\\tensorflow\\python\\framework\\dtypes.py:525: FutureWarning: Passing (type, 1) or '1type' as a synonym of type is deprecated; in a future version of numpy, it will be understood as (type, (1,)) / '(1,)type'.\n",
      "  _np_qint16 = np.dtype([(\"qint16\", np.int16, 1)])\n",
      "c:\\users\\shetu\\anaconda3\\envs\\thesis_shetu\\lib\\site-packages\\tensorflow\\python\\framework\\dtypes.py:526: FutureWarning: Passing (type, 1) or '1type' as a synonym of type is deprecated; in a future version of numpy, it will be understood as (type, (1,)) / '(1,)type'.\n",
      "  _np_quint16 = np.dtype([(\"quint16\", np.uint16, 1)])\n",
      "c:\\users\\shetu\\anaconda3\\envs\\thesis_shetu\\lib\\site-packages\\tensorflow\\python\\framework\\dtypes.py:527: FutureWarning: Passing (type, 1) or '1type' as a synonym of type is deprecated; in a future version of numpy, it will be understood as (type, (1,)) / '(1,)type'.\n",
      "  _np_qint32 = np.dtype([(\"qint32\", np.int32, 1)])\n",
      "c:\\users\\shetu\\anaconda3\\envs\\thesis_shetu\\lib\\site-packages\\tensorflow\\python\\framework\\dtypes.py:532: FutureWarning: Passing (type, 1) or '1type' as a synonym of type is deprecated; in a future version of numpy, it will be understood as (type, (1,)) / '(1,)type'.\n",
      "  np_resource = np.dtype([(\"resource\", np.ubyte, 1)])\n",
      "Using TensorFlow backend.\n"
     ]
    }
   ],
   "source": [
    "# -*- coding: utf-8 -*-\n",
    "\"\"\"\n",
    "Created on Wed Apr  3 14:10:07 2019\n",
    "\n",
    "@author: ncelik34\n",
    "\"\"\"\n",
    "\n",
    "\n",
    "# Importing the libraries\n",
    "import os\n",
    "import numpy\n",
    "import time\n",
    "import random\n",
    "import math\n",
    "\n",
    "import numpy as np\n",
    "import pandas as pd\n",
    "import matplotlib.pyplot as plt\n",
    "import tensorflow as tf\n",
    "from imblearn.over_sampling import SMOTE\n",
    "\n",
    "from sklearn.preprocessing import MinMaxScaler\n",
    "from sklearn.metrics import roc_curve, auc, confusion_matrix\n",
    "from sklearn.utils import shuffle\n",
    "\n",
    "from keras.models import Sequential, load_model\n",
    "from keras.layers import Dense,Bidirectional, Dropout, Flatten, Reshape, Activation, LSTM, BatchNormalization, TimeDistributed, Conv1D, MaxPooling1D\n",
    "import keras_metrics as km\n",
    "from keras.callbacks import LearningRateScheduler\n",
    "from keras import optimizers\n",
    "from keras import backend as K\n",
    "from keras.utils import to_categorical\n",
    "\n",
    "# from tensorflow_addons.metrics import F1Score\n",
    "\n",
    "\n",
    "def mcor(y_true, y_pred):\n",
    "    # Matthews correlation\n",
    "    y_pred_pos = K.round(K.clip(y_pred, 0, 1))\n",
    "    y_pred_neg = 1 - y_pred_pos\n",
    "\n",
    "    y_pos = K.round(K.clip(y_true, 0, 1))\n",
    "    y_neg = 1 - y_pos\n",
    "\n",
    "    tp = K.sum(y_pos * y_pred_pos)\n",
    "    tn = K.sum(y_neg * y_pred_neg)\n",
    "\n",
    "    fp = K.sum(y_neg * y_pred_pos)\n",
    "    fn = K.sum(y_pos * y_pred_neg)\n",
    "\n",
    "    numerator = (tp * tn - fp * fn)\n",
    "    denominator = K.sqrt((tp + fp) * (tp + fn) * (tn + fp) * (tn + fn))\n",
    "\n",
    "    return numerator / (denominator + K.epsilon())\n",
    "\n",
    "\n",
    "def make_roc(true, predicted):\n",
    "\n",
    "    # roc curve plotting for multiple\n",
    "\n",
    "    n_classesi = predicted.shape[1]\n",
    "\n",
    "    fpr = {}\n",
    "    tpr = {}\n",
    "    roc_auc = {}\n",
    "\n",
    "    for i in range(n_classesi):\n",
    "        fpr[i], tpr[i], _ = roc_curve(true[:, i], predicted[:, i])\n",
    "        roc_auc[i] = auc(fpr[i], tpr[i])\n",
    "\n",
    "    plt.figure()\n",
    "    lw = 2\n",
    "    plt.plot(fpr[2], tpr[2], color='darkorange',\n",
    "             lw=lw, label='ROC curve (area = %0.2f)' % roc_auc[2])\n",
    "    plt.plot([0, 1], [0, 1], color='navy', lw=lw, linestyle='--')\n",
    "    plt.xlim([0.0, 1.0])\n",
    "    plt.ylim([0.0, 1.0])\n",
    "    plt.xlabel('False Positive Rate')\n",
    "    plt.ylabel('True Positive Rate')\n",
    "    plt.title('Receiver operating characteristic example')\n",
    "    plt.legend(loc=\"lower right\")\n",
    "    plt.show()\n",
    "\n",
    "    plt.figure(2)\n",
    "    plt.xlim(0, 1)\n",
    "    plt.ylim(0, 1)\n",
    "    colors = ['aqua', 'darkorange', 'cornflowerblue',\n",
    "                    'red', 'black', 'yellow']\n",
    "    for i in range(n_classesi):\n",
    "        plt.plot(fpr[i], tpr[i], color=color[i], lw=lw,\n",
    "                 label='ROC curve of class {0} (area = {1:0.2f})'\n",
    "                 ''.format(i, roc_auc[i]))\n",
    "\n",
    "    plt.xlabel('False Positive Rate (1 - Specificity)')\n",
    "    plt.ylabel('True Positive Rate (Sensitivity)')\n",
    "    plt.title('Zooom in View: Some extension of ROC to multi-class')\n",
    "    plt.legend(loc=\"lower right\")\n",
    "    plt.show()\n",
    "\n",
    "\n",
    "def step_decay(epoch):\n",
    "    # Learning rate scheduler object\n",
    "    initial_lrate = 0.001\n",
    "    drop = 0.001\n",
    "    \n",
    "    epochs_drop = 3.0\n",
    "    lrate = initial_lrate * math.pow(drop, math.floor((1+epoch)/epochs_drop))\n",
    "    return lrate"
   ]
  },
  {
   "cell_type": "code",
   "execution_count": 2,
   "metadata": {},
   "outputs": [
    {
     "name": "stderr",
     "output_type": "stream",
     "text": [
      "c:\\users\\shetu\\anaconda3\\envs\\thesis_shetu\\lib\\site-packages\\IPython\\core\\interactiveshell.py:3063: DtypeWarning: Columns (0,1,2) have mixed types.Specify dtype option on import or set low_memory=False.\n",
      "  interactivity=interactivity, compiler=compiler, result=result)\n"
     ]
    }
   ],
   "source": [
    "'''\n",
    "############# SET UP RUN HERE ####################\n",
    "'''\n",
    "\n",
    "batch_size = 8\n",
    "\n",
    "dataset= pd.read_csv('train.csv', header=None)"
   ]
  },
  {
   "cell_type": "code",
   "execution_count": 3,
   "metadata": {},
   "outputs": [
    {
     "name": "stdout",
     "output_type": "stream",
     "text": [
      "(5000001, 3)\n"
     ]
    }
   ],
   "source": [
    "print(np.shape(dataset))\n",
    "dataset=dataset.values[1:,:]"
   ]
  },
  {
   "cell_type": "code",
   "execution_count": 4,
   "metadata": {},
   "outputs": [
    {
     "data": {
      "text/plain": [
       "(5000000, 3)"
      ]
     },
     "execution_count": 4,
     "metadata": {},
     "output_type": "execute_result"
    }
   ],
   "source": [
    "\n",
    "np.shape(dataset)"
   ]
  },
  {
   "cell_type": "code",
   "execution_count": 5,
   "metadata": {},
   "outputs": [
    {
     "name": "stdout",
     "output_type": "stream",
     "text": [
      "10\n",
      "training set = 4000000\n",
      "test set = 1000000\n",
      "total length = 5000000\n",
      "(5000000,)\n",
      "(13641672, 1)\n",
      "(13641672, 1)\n",
      "[ 0.    0.    0.    0.    0.    0.    0.    0.    0.   -2.76]\n"
     ]
    }
   ],
   "source": [
    "dataset = dataset.astype('float64')\n",
    "timep = dataset[:, 0]\n",
    "maxer = np.amax(dataset[:, 2])\n",
    "maxeri = maxer.astype('int')\n",
    "maxchannels = maxeri\n",
    "print(maxeri)\n",
    "idataset = dataset[:, 2].astype(int)\n",
    "scaler = MinMaxScaler(feature_range=(0, 1))\n",
    "# dataset = scaler.fit_transform(dataset)\n",
    "\n",
    "# train and test set split and reshape:\n",
    "train_size = int(len(dataset) * 0.80)\n",
    "modder = math.floor(train_size/batch_size)\n",
    "train_size = int(modder*batch_size)\n",
    "test_size = int(len(dataset) - train_size)\n",
    "modder = math.floor(test_size/batch_size)\n",
    "test_size = int(modder*batch_size)\n",
    "\n",
    "print(f'training set = {train_size}')\n",
    "print(f'test set = {test_size}')\n",
    "print(f'total length = {test_size + train_size}')\n",
    "new_data=[]\n",
    "x_train = dataset[:, 1]\n",
    "print(np.shape(x_train))\n",
    "y_train = idataset[:]\n",
    "\n",
    "\n",
    "\n",
    "x_train = x_train.reshape((len(x_train), 1))\n",
    "y_train = y_train.reshape((len(y_train), 1))\n",
    "\n",
    "\n",
    "sm = SMOTE(sampling_strategy='auto', random_state=42)\n",
    "X_res, Y_res = sm.fit_sample(x_train, y_train)\n",
    "\n",
    "yy_res = Y_res.reshape((len(Y_res), 1))\n",
    "yy_res = to_categorical(yy_res[:], num_classes=maxchannels+1)\n",
    "\n",
    "print(np.shape(X_res))\n",
    "print(np.shape(X_res))\n",
    "\n",
    "train_samples=[]\n",
    "X_res=X_res.reshape(-1)\n",
    "for i in range(np.shape(X_res)[0]):\n",
    "    if i==0:\n",
    "        samp=np.pad(np.array([X_res[i]]), (9-i,0), 'constant')\n",
    "        print(samp)\n",
    "    elif i>0 and i<10:\n",
    "        samp=np.pad(X_res[:i+1], (9-i,0), 'constant')\n",
    "#         print(np.shape(samp))\n",
    "    else:\n",
    "        samp=X_res[i-9:i+1]\n",
    "#         print('hello',np.shape(samp))\n",
    "        \n",
    "#     print(i)\n",
    "#     print(np.shape(samp))\n",
    "        \n",
    "    train_samples.append(np.reshape(samp,(1,10,1)))\n",
    "xx_res, yy_res = shuffle(train_samples, yy_res)"
   ]
  },
  {
   "cell_type": "code",
   "execution_count": 6,
   "metadata": {},
   "outputs": [
    {
     "name": "stdout",
     "output_type": "stream",
     "text": [
      "training set=  10913336\n",
      "test set = 2728336\n",
      "total length 13641672\n"
     ]
    }
   ],
   "source": [
    "trainy_size = int(len(xx_res) * 0.80)\n",
    "modder = math.floor(trainy_size/batch_size)\n",
    "trainy_size = int(modder*batch_size)\n",
    "testy_size = int(len(xx_res) - trainy_size)\n",
    "modder = math.floor(testy_size/batch_size)\n",
    "testy_size = int(modder*batch_size)\n",
    "\n",
    "print('training set= ', trainy_size)\n",
    "print('test set =', testy_size)\n",
    "print('total length', testy_size+trainy_size)\n",
    "\n",
    "\n",
    "in_train, in_test = xx_res[0:trainy_size], xx_res[trainy_size:trainy_size+testy_size]\n",
    "target_train, target_test = yy_res[0:trainy_size,\n",
    "                                   :], yy_res[trainy_size:trainy_size+testy_size, :]\n",
    "# in_train = in_train.reshape(len(in_train), 1, 1, 1)\n",
    "# in_test = in_test.reshape(len(in_test), 1, 1, 1)"
   ]
  },
  {
   "cell_type": "code",
   "execution_count": 7,
   "metadata": {},
   "outputs": [
    {
     "name": "stdout",
     "output_type": "stream",
     "text": [
      "(10913336, 1, 10, 1)\n"
     ]
    }
   ],
   "source": [
    "print(np.shape(in_train))"
   ]
  },
  {
   "cell_type": "markdown",
   "metadata": {},
   "source": []
  },
  {
   "cell_type": "markdown",
   "metadata": {},
   "source": [
    "test_samples=[]\n",
    "\n",
    "for i in range(np.shape(in_test)[0]):\n",
    "    if i==0:\n",
    "        samp=np.pad(np.array([in_test[i]]), (9-i,0), 'constant')\n",
    "        print(samp)\n",
    "    elif i>0 and i<10:\n",
    "        samp=np.pad(in_test[:i+1], (9-i,0), 'constant')\n",
    "    else:\n",
    "        samp=in_test[i-9:i+1]\n",
    "        \n",
    "#     print(i)\n",
    "#     print(np.shape(samp))\n",
    "        \n",
    "    test_samples.append(np.reshape(samp,(10,1,1)))"
   ]
  },
  {
   "cell_type": "code",
   "execution_count": 8,
   "metadata": {},
   "outputs": [
    {
     "name": "stdout",
     "output_type": "stream",
     "text": [
      "(13641672, 1, 10, 1)\n"
     ]
    }
   ],
   "source": [
    "print(np.shape(train_samples))"
   ]
  },
  {
   "cell_type": "code",
   "execution_count": 9,
   "metadata": {},
   "outputs": [
    {
     "ename": "NameError",
     "evalue": "name 'test_samples' is not defined",
     "output_type": "error",
     "traceback": [
      "\u001b[1;31m---------------------------------------------------------------------------\u001b[0m",
      "\u001b[1;31mNameError\u001b[0m                                 Traceback (most recent call last)",
      "\u001b[1;32m<ipython-input-9-9d4545e949b9>\u001b[0m in \u001b[0;36m<module>\u001b[1;34m\u001b[0m\n\u001b[1;32m----> 1\u001b[1;33m \u001b[0mprint\u001b[0m\u001b[1;33m(\u001b[0m\u001b[0mnp\u001b[0m\u001b[1;33m.\u001b[0m\u001b[0mshape\u001b[0m\u001b[1;33m(\u001b[0m\u001b[0mtest_samples\u001b[0m\u001b[1;33m)\u001b[0m\u001b[1;33m)\u001b[0m\u001b[1;33m\u001b[0m\u001b[1;33m\u001b[0m\u001b[0m\n\u001b[0m",
      "\u001b[1;31mNameError\u001b[0m: name 'test_samples' is not defined"
     ]
    }
   ],
   "source": [
    "print(np.shape(test_samples))"
   ]
  },
  {
   "cell_type": "code",
   "execution_count": null,
   "metadata": {},
   "outputs": [],
   "source": [
    "# in_train, in_test = new_samples[0:trainy_size], new_samples[trainy_size:trainy_size+testy_size]\n",
    "# target_train, target_test = yy_res[0:trainy_size,\n",
    "#                                    :], yy_res[trainy_size:trainy_size+testy_size, :]\n",
    "# # in_train = in_train.reshape(len(in_train), 1, 1, 1)\n",
    "# # in_test = in_test.reshape(len(in_test), 1, 1, 1)"
   ]
  },
  {
   "cell_type": "code",
   "execution_count": null,
   "metadata": {},
   "outputs": [],
   "source": [
    "np.shape(in_train)\n",
    "np.shape(target_train)"
   ]
  },
  {
   "cell_type": "code",
   "execution_count": null,
   "metadata": {},
   "outputs": [],
   "source": [
    "print(new_samples[14])\n",
    "print(x_train[14])"
   ]
  },
  {
   "cell_type": "code",
   "execution_count": 29,
   "metadata": {},
   "outputs": [
    {
     "name": "stdout",
     "output_type": "stream",
     "text": [
      "[0.     0.     0.     0.     0.     0.     0.     0.     0.     0.0002]\n",
      "11\n",
      "(99998, 5)\n"
     ]
    }
   ],
   "source": [
    "# validation set!!\n",
    "df_val = pd.read_csv(r'C:\\Users\\shetu\\Desktop\\Julich Phd\\Deep-Channel-master\\Deep-Channel-master\\dataset\\5 channels\\outfinaltest747.csv', header=None)\n",
    "df_val=df_val.values[1:,:]\n",
    "data_val = df_val.astype('float64')\n",
    "\n",
    "idataset2 = data_val[:, 1].astype(int)\n",
    "\n",
    "val_set = data_val[:, 0]\n",
    "# scaler = MinMaxScaler(feature_range=(0, 1))\n",
    "# val_set = scaler.fit_transform(val_set.reshape(-1,1))\n",
    "# val_set = val_set.reshape(len(val_set), 1, 1, 1)\n",
    "\n",
    "val_samples=[]\n",
    "for i in range(np.shape(val_set)[0]):\n",
    "    if i==0:\n",
    "        samp=np.pad(np.array([val_set[i]]), (9-i,0), 'constant')\n",
    "        print(samp)\n",
    "    elif i>0 and i<10:\n",
    "        samp=np.pad(val_set[:i+1], (9-i,0), 'constant')\n",
    "#         print(np.shape(samp))\n",
    "    else:\n",
    "        samp=val_set[i-9:i+1]\n",
    "#         print('hello',np.shape(samp))\n",
    "        \n",
    "#     print(i)\n",
    "#     print(np.shape(samp))\n",
    "        \n",
    "    val_samples.append(np.reshape(samp,(1,10,1)))\n",
    "val_target = data_val[:, 1]\n",
    "print(maxchannels+1)\n",
    "val_target = to_categorical(val_target, num_classes=5)\n",
    "print(np.shape(val_target))"
   ]
  },
  {
   "cell_type": "code",
   "execution_count": 32,
   "metadata": {},
   "outputs": [],
   "source": [
    "val_samples=np.asarray(val_samples)"
   ]
  },
  {
   "cell_type": "code",
   "execution_count": 11,
   "metadata": {},
   "outputs": [
    {
     "name": "stdout",
     "output_type": "stream",
     "text": [
      "[0. 0. 0. 0. 1. 0. 0. 0. 0. 0. 0.]\n"
     ]
    }
   ],
   "source": [
    "in_train=np.asarray(in_train)\n",
    "in_test=np.asarray(in_test)\n",
    "print((target_train[80000]))"
   ]
  },
  {
   "cell_type": "code",
   "execution_count": null,
   "metadata": {},
   "outputs": [],
   "source": [
    "# # model starts..\n",
    "\n",
    "# newmodel = Sequential()\n",
    "# timestep = 1\n",
    "# input_dim = 1\n",
    "# newmodel.add(input_shape=(timestep, input_dim))\n",
    "# newmodel.add(Conv1D(filters=15, kernel_size=3,padding='same',\n",
    "#                                     activation='relu'))\n",
    "# newmodel.add(MaxPooling1D(pool_size=3))\n",
    "# newmodel.add(Conv1D(filters=5, kernel_size=3,padding='same',\n",
    "#                                     activation='relu'), input_shape=(None, timestep, input_dim))\n",
    "# newmodel.add(MaxPooling1D(pool_size=3))\n",
    "# # newmodel.add(Flatten()))\n",
    "\n",
    "# newmodel.add(LSTM(256, activation='relu', return_sequences=True))\n",
    "# newmodel.add(BatchNormalization())\n",
    "# newmodel.add(Dropout(0.2))\n",
    "\n",
    "# newmodel.add(LSTM(256, activation='relu', return_sequences=True))\n",
    "# newmodel.add(BatchNormalization())\n",
    "# newmodel.add(Dropout(0.2))\n",
    "\n",
    "# newmodel.add(LSTM(256, activation='relu'))\n",
    "# newmodel.add(BatchNormalization())\n",
    "# newmodel.add(Dropout(0.2))\n",
    "\n",
    "# newmodel.add(Dense(maxchannels+1))\n",
    "# newmodel.add(Activation('softmax'))\n",
    "\n",
    "\n",
    "# newmodel.compile(loss='categorical_crossentropy', optimizer=optimizers.SGD(lr=0.001, momentum=0.9, nesterov=False), metrics=[\n",
    "#                  'accuracy', km.binary_precision(), km.binary_recall()])"
   ]
  },
  {
   "cell_type": "code",
   "execution_count": 12,
   "metadata": {},
   "outputs": [],
   "source": [
    "newmodel = Sequential()\n",
    "timestep = 10\n",
    "input_dim = 1\n",
    "newmodel.add(TimeDistributed(Conv1D(filters=64, kernel_size=3,padding='same',\n",
    "                                    activation='relu'), input_shape=(1, timestep, input_dim)))\n",
    "newmodel.add(TimeDistributed(MaxPooling1D(pool_size=3)))\n",
    "newmodel.add(TimeDistributed(Flatten()))\n",
    "\n",
    "newmodel.add(LSTM(256, activation='relu', return_sequences=True))\n",
    "newmodel.add(BatchNormalization())\n",
    "newmodel.add(Dropout(0.2))\n",
    "\n",
    "newmodel.add(LSTM(256, activation='relu', return_sequences=True))\n",
    "newmodel.add(BatchNormalization())\n",
    "newmodel.add(Dropout(0.2))\n",
    "\n",
    "newmodel.add(LSTM(256, activation='relu'))\n",
    "newmodel.add(BatchNormalization())\n",
    "newmodel.add(Dropout(0.2))\n",
    "\n",
    "newmodel.add(Dense(maxchannels+1))\n",
    "newmodel.add(Activation('softmax'))\n",
    "\n",
    "\n",
    "newmodel.compile(loss='categorical_crossentropy', optimizer=optimizers.SGD(lr=0.001, momentum=0.9, nesterov=False), metrics=[\n",
    "                 'accuracy', km.binary_precision(), km.binary_recall()])\n"
   ]
  },
  {
   "cell_type": "code",
   "execution_count": null,
   "metadata": {},
   "outputs": [],
   "source": []
  },
  {
   "cell_type": "code",
   "execution_count": 13,
   "metadata": {},
   "outputs": [
    {
     "name": "stdout",
     "output_type": "stream",
     "text": [
      "train\n",
      "Epoch 1/2\n",
      "682083/682083 [==============================] - 38084s 56ms/step - loss: 0.6527 - acc: 0.7675 - precision: 0.9669 - recall: 0.8312 - val_loss: 0.5323 - val_acc: 0.8120 - val_precision: 0.9915 - val_recall: 0.8345\n",
      "Epoch 2/2\n",
      "682083/682083 [==============================] - 18748s 27ms/step - loss: 0.5669 - acc: 0.7973 - precision: 0.9742 - recall: 0.8395 - val_loss: 0.5269 - val_acc: 0.8109 - val_precision: 0.9647 - val_recall: 0.8504\n"
     ]
    }
   ],
   "source": [
    "lrate = LearningRateScheduler(step_decay)\n",
    "from keras.preprocessing.image import ImageDataGenerator\n",
    "\n",
    "\n",
    "epochers = 2\n",
    "print('train')\n",
    "# history = newmodel.fit_generator((in_train[:10000], target_train[:10000]), initial_epoch=0, epochs=epochers,steps_per_epoch=10000 // batch_size, callbacks=[\n",
    "#                        lrate], verbose=1, shuffle=False, validation_data=(in_test,target_test))\n",
    "\n",
    "# construct the training image generator for data augmentation\n",
    "aug = ImageDataGenerator()\n",
    "# train the network\n",
    "H = newmodel.fit_generator(aug.flow(in_train, target_train, batch_size=16),\n",
    "\tvalidation_data=(in_test, target_test), steps_per_epoch=10913336 // 16,\n",
    "\tepochs=2)\n"
   ]
  },
  {
   "cell_type": "code",
   "execution_count": 14,
   "metadata": {},
   "outputs": [],
   "source": [
    "newmodel.save('new_oversampled_deepchanel6_5.h5')\n"
   ]
  },
  {
   "cell_type": "code",
   "execution_count": null,
   "metadata": {},
   "outputs": [],
   "source": [
    "# prediction for test set\n",
    "predict = newmodel.predict(in_test, batch_size=batch_size)"
   ]
  },
  {
   "cell_type": "code",
   "execution_count": null,
   "metadata": {},
   "outputs": [],
   "source": [
    "# prediction for val set\n",
    "predict_val = newmodel.predict(val_samples, batch_size=batch_size)\n",
    "\n",
    "\n",
    "class_predict = np.argmax(predict, axis=-1)\n",
    "class_predict_val = np.argmax(predict_val, axis=-1)\n",
    "class_target = np.argmax(target_test, axis=-1)\n",
    "class_target_val = np.argmax(val_target, axis=-1)\n",
    "\n",
    "\n",
    "cm_test = confusion_matrix(class_target, class_predict)\n",
    "cm_val = confusion_matrix(idataset2, class_predict_val)\n",
    "\n",
    "rnd = 1"
   ]
  },
  {
   "cell_type": "code",
   "execution_count": 37,
   "metadata": {},
   "outputs": [
    {
     "data": {
      "image/png": "[encoded data removed]",
      "text/plain": [
       "<Figure size 432x288 with 1 Axes>"
      ]
     },
     "metadata": {
      "needs_background": "light"
     },
     "output_type": "display_data"
    },
    {
     "data": {
      "image/png": "[encoded data removed]",
      "text/plain": [
       "<Figure size 432x288 with 1 Axes>"
      ]
     },
     "metadata": {
      "needs_background": "light"
     },
     "output_type": "display_data"
    },
    {
     "ename": "ValueError",
     "evalue": "x and y can be no greater than 2-D, but have shapes (2000,) and (2000, 1, 10, 1)",
     "output_type": "error",
     "traceback": [
      "\u001b[1;31m---------------------------------------------------------------------------\u001b[0m",
      "\u001b[1;31mValueError\u001b[0m                                Traceback (most recent call last)",
      "\u001b[1;32m<ipython-input-37-a459146af975>\u001b[0m in \u001b[0;36m<module>\u001b[1;34m\u001b[0m\n\u001b[0;32m     27\u001b[0m \u001b[1;31m# temp=scaler.inverse_transform(dataset)\u001b[0m\u001b[1;33m\u001b[0m\u001b[1;33m\u001b[0m\u001b[1;33m\u001b[0m\u001b[0m\n\u001b[0;32m     28\u001b[0m plt.plot(xx_res[trainy_size:trainy_size+lenny],\n\u001b[1;32m---> 29\u001b[1;33m          color='blue', label=\"some raw data\")\n\u001b[0m\u001b[0;32m     30\u001b[0m \u001b[0mplt\u001b[0m\u001b[1;33m.\u001b[0m\u001b[0mtitle\u001b[0m\u001b[1;33m(\u001b[0m\u001b[1;34m\"The raw test\"\u001b[0m\u001b[1;33m)\u001b[0m\u001b[1;33m\u001b[0m\u001b[1;33m\u001b[0m\u001b[0m\n\u001b[0;32m     31\u001b[0m \u001b[1;33m\u001b[0m\u001b[0m\n",
      "\u001b[1;32mc:\\users\\shetu\\anaconda3\\envs\\thesis_shetu\\lib\\site-packages\\matplotlib\\pyplot.py\u001b[0m in \u001b[0;36mplot\u001b[1;34m(scalex, scaley, data, *args, **kwargs)\u001b[0m\n\u001b[0;32m   2794\u001b[0m     return gca().plot(\n\u001b[0;32m   2795\u001b[0m         *args, scalex=scalex, scaley=scaley, **({\"data\": data} if data\n\u001b[1;32m-> 2796\u001b[1;33m         is not None else {}), **kwargs)\n\u001b[0m\u001b[0;32m   2797\u001b[0m \u001b[1;33m\u001b[0m\u001b[0m\n\u001b[0;32m   2798\u001b[0m \u001b[1;33m\u001b[0m\u001b[0m\n",
      "\u001b[1;32mc:\\users\\shetu\\anaconda3\\envs\\thesis_shetu\\lib\\site-packages\\matplotlib\\axes\\_axes.py\u001b[0m in \u001b[0;36mplot\u001b[1;34m(self, scalex, scaley, data, *args, **kwargs)\u001b[0m\n\u001b[0;32m   1663\u001b[0m         \"\"\"\n\u001b[0;32m   1664\u001b[0m         \u001b[0mkwargs\u001b[0m \u001b[1;33m=\u001b[0m \u001b[0mcbook\u001b[0m\u001b[1;33m.\u001b[0m\u001b[0mnormalize_kwargs\u001b[0m\u001b[1;33m(\u001b[0m\u001b[0mkwargs\u001b[0m\u001b[1;33m,\u001b[0m \u001b[0mmlines\u001b[0m\u001b[1;33m.\u001b[0m\u001b[0mLine2D\u001b[0m\u001b[1;33m.\u001b[0m\u001b[0m_alias_map\u001b[0m\u001b[1;33m)\u001b[0m\u001b[1;33m\u001b[0m\u001b[1;33m\u001b[0m\u001b[0m\n\u001b[1;32m-> 1665\u001b[1;33m         \u001b[0mlines\u001b[0m \u001b[1;33m=\u001b[0m \u001b[1;33m[\u001b[0m\u001b[1;33m*\u001b[0m\u001b[0mself\u001b[0m\u001b[1;33m.\u001b[0m\u001b[0m_get_lines\u001b[0m\u001b[1;33m(\u001b[0m\u001b[1;33m*\u001b[0m\u001b[0margs\u001b[0m\u001b[1;33m,\u001b[0m \u001b[0mdata\u001b[0m\u001b[1;33m=\u001b[0m\u001b[0mdata\u001b[0m\u001b[1;33m,\u001b[0m \u001b[1;33m**\u001b[0m\u001b[0mkwargs\u001b[0m\u001b[1;33m)\u001b[0m\u001b[1;33m]\u001b[0m\u001b[1;33m\u001b[0m\u001b[1;33m\u001b[0m\u001b[0m\n\u001b[0m\u001b[0;32m   1666\u001b[0m         \u001b[1;32mfor\u001b[0m \u001b[0mline\u001b[0m \u001b[1;32min\u001b[0m \u001b[0mlines\u001b[0m\u001b[1;33m:\u001b[0m\u001b[1;33m\u001b[0m\u001b[1;33m\u001b[0m\u001b[0m\n\u001b[0;32m   1667\u001b[0m             \u001b[0mself\u001b[0m\u001b[1;33m.\u001b[0m\u001b[0madd_line\u001b[0m\u001b[1;33m(\u001b[0m\u001b[0mline\u001b[0m\u001b[1;33m)\u001b[0m\u001b[1;33m\u001b[0m\u001b[1;33m\u001b[0m\u001b[0m\n",
      "\u001b[1;32mc:\\users\\shetu\\anaconda3\\envs\\thesis_shetu\\lib\\site-packages\\matplotlib\\axes\\_base.py\u001b[0m in \u001b[0;36m__call__\u001b[1;34m(self, *args, **kwargs)\u001b[0m\n\u001b[0;32m    223\u001b[0m                 \u001b[0mthis\u001b[0m \u001b[1;33m+=\u001b[0m \u001b[0margs\u001b[0m\u001b[1;33m[\u001b[0m\u001b[1;36m0\u001b[0m\u001b[1;33m]\u001b[0m\u001b[1;33m,\u001b[0m\u001b[1;33m\u001b[0m\u001b[1;33m\u001b[0m\u001b[0m\n\u001b[0;32m    224\u001b[0m                 \u001b[0margs\u001b[0m \u001b[1;33m=\u001b[0m \u001b[0margs\u001b[0m\u001b[1;33m[\u001b[0m\u001b[1;36m1\u001b[0m\u001b[1;33m:\u001b[0m\u001b[1;33m]\u001b[0m\u001b[1;33m\u001b[0m\u001b[1;33m\u001b[0m\u001b[0m\n\u001b[1;32m--> 225\u001b[1;33m             \u001b[1;32myield\u001b[0m \u001b[1;32mfrom\u001b[0m \u001b[0mself\u001b[0m\u001b[1;33m.\u001b[0m\u001b[0m_plot_args\u001b[0m\u001b[1;33m(\u001b[0m\u001b[0mthis\u001b[0m\u001b[1;33m,\u001b[0m \u001b[0mkwargs\u001b[0m\u001b[1;33m)\u001b[0m\u001b[1;33m\u001b[0m\u001b[1;33m\u001b[0m\u001b[0m\n\u001b[0m\u001b[0;32m    226\u001b[0m \u001b[1;33m\u001b[0m\u001b[0m\n\u001b[0;32m    227\u001b[0m     \u001b[1;32mdef\u001b[0m \u001b[0mget_next_color\u001b[0m\u001b[1;33m(\u001b[0m\u001b[0mself\u001b[0m\u001b[1;33m)\u001b[0m\u001b[1;33m:\u001b[0m\u001b[1;33m\u001b[0m\u001b[1;33m\u001b[0m\u001b[0m\n",
      "\u001b[1;32mc:\\users\\shetu\\anaconda3\\envs\\thesis_shetu\\lib\\site-packages\\matplotlib\\axes\\_base.py\u001b[0m in \u001b[0;36m_plot_args\u001b[1;34m(self, tup, kwargs)\u001b[0m\n\u001b[0;32m    389\u001b[0m             \u001b[0mx\u001b[0m\u001b[1;33m,\u001b[0m \u001b[0my\u001b[0m \u001b[1;33m=\u001b[0m \u001b[0mindex_of\u001b[0m\u001b[1;33m(\u001b[0m\u001b[0mtup\u001b[0m\u001b[1;33m[\u001b[0m\u001b[1;33m-\u001b[0m\u001b[1;36m1\u001b[0m\u001b[1;33m]\u001b[0m\u001b[1;33m)\u001b[0m\u001b[1;33m\u001b[0m\u001b[1;33m\u001b[0m\u001b[0m\n\u001b[0;32m    390\u001b[0m \u001b[1;33m\u001b[0m\u001b[0m\n\u001b[1;32m--> 391\u001b[1;33m         \u001b[0mx\u001b[0m\u001b[1;33m,\u001b[0m \u001b[0my\u001b[0m \u001b[1;33m=\u001b[0m \u001b[0mself\u001b[0m\u001b[1;33m.\u001b[0m\u001b[0m_xy_from_xy\u001b[0m\u001b[1;33m(\u001b[0m\u001b[0mx\u001b[0m\u001b[1;33m,\u001b[0m \u001b[0my\u001b[0m\u001b[1;33m)\u001b[0m\u001b[1;33m\u001b[0m\u001b[1;33m\u001b[0m\u001b[0m\n\u001b[0m\u001b[0;32m    392\u001b[0m \u001b[1;33m\u001b[0m\u001b[0m\n\u001b[0;32m    393\u001b[0m         \u001b[1;32mif\u001b[0m \u001b[0mself\u001b[0m\u001b[1;33m.\u001b[0m\u001b[0mcommand\u001b[0m \u001b[1;33m==\u001b[0m \u001b[1;34m'plot'\u001b[0m\u001b[1;33m:\u001b[0m\u001b[1;33m\u001b[0m\u001b[1;33m\u001b[0m\u001b[0m\n",
      "\u001b[1;32mc:\\users\\shetu\\anaconda3\\envs\\thesis_shetu\\lib\\site-packages\\matplotlib\\axes\\_base.py\u001b[0m in \u001b[0;36m_xy_from_xy\u001b[1;34m(self, x, y)\u001b[0m\n\u001b[0;32m    271\u001b[0m         \u001b[1;32mif\u001b[0m \u001b[0mx\u001b[0m\u001b[1;33m.\u001b[0m\u001b[0mndim\u001b[0m \u001b[1;33m>\u001b[0m \u001b[1;36m2\u001b[0m \u001b[1;32mor\u001b[0m \u001b[0my\u001b[0m\u001b[1;33m.\u001b[0m\u001b[0mndim\u001b[0m \u001b[1;33m>\u001b[0m \u001b[1;36m2\u001b[0m\u001b[1;33m:\u001b[0m\u001b[1;33m\u001b[0m\u001b[1;33m\u001b[0m\u001b[0m\n\u001b[0;32m    272\u001b[0m             raise ValueError(\"x and y can be no greater than 2-D, but have \"\n\u001b[1;32m--> 273\u001b[1;33m                              \"shapes {} and {}\".format(x.shape, y.shape))\n\u001b[0m\u001b[0;32m    274\u001b[0m \u001b[1;33m\u001b[0m\u001b[0m\n\u001b[0;32m    275\u001b[0m         \u001b[1;32mif\u001b[0m \u001b[0mx\u001b[0m\u001b[1;33m.\u001b[0m\u001b[0mndim\u001b[0m \u001b[1;33m==\u001b[0m \u001b[1;36m1\u001b[0m\u001b[1;33m:\u001b[0m\u001b[1;33m\u001b[0m\u001b[1;33m\u001b[0m\u001b[0m\n",
      "\u001b[1;31mValueError\u001b[0m: x and y can be no greater than 2-D, but have shapes (2000,) and (2000, 1, 10, 1)"
     ]
    },
    {
     "data": {
      "image/png": "[encoded data removed]",
      "text/plain": [
       "<Figure size 2160x432 with 1 Axes>"
      ]
     },
     "metadata": {
      "needs_background": "light"
     },
     "output_type": "display_data"
    }
   ],
   "source": [
    "# summarize history for accuracy\n",
    "plt.plot(H.history['acc'])\n",
    "plt.plot(H.history['val_acc'])\n",
    "plt.title('model acc')\n",
    "plt.ylabel('acc')\n",
    "plt.xlabel('epoch')\n",
    "plt.legend(['train', 'test'], loc='lower right')\n",
    "plt.savefig(str(rnd)+'acc.png')\n",
    "plt.show()\n",
    "\n",
    "# summarize history for loss\n",
    "plt.plot(H.history['loss'])\n",
    "plt.plot(H.history['val_loss'])\n",
    "plt.title('model loss')\n",
    "plt.ylabel('loss')\n",
    "plt.xlabel('epoch')\n",
    "plt.legend(['train', 'test'], loc='upper right')\n",
    "plt.savefig(str(rnd)+'loss.png')\n",
    "plt.show()\n",
    "\n",
    "\n",
    "plotlen = test_size\n",
    "lenny = 2000\n",
    "\n",
    "plt.figure(figsize=(30, 6))\n",
    "plt.subplot(2, 1, 1)\n",
    "# temp=scaler.inverse_transform(dataset)\n",
    "plt.plot(xx_res[trainy_size:trainy_size+lenny],\n",
    "         color='blue', label=\"some raw data\")\n",
    "plt.title(\"The raw test\")\n",
    "\n",
    "plt.subplot(2, 1, 2)\n",
    "plt.plot(class_target[:lenny], color='black', label=\"the actual idealisation\", drawstyle='steps-mid')\n",
    "\n",
    "line, = plt.plot(class_predict[:lenny], color='red',\n",
    "                 label=\"predicted idealisation\", drawstyle='steps-mid')\n",
    "plt.setp(line, linestyle='--')\n",
    "plt.xlabel('timepoint')\n",
    "plt.ylabel('current')\n",
    "# plt.savefig(str(rnd)+'data.png')\n",
    "plt.legend()\n",
    "plt.show()\n",
    "\n",
    "\n",
    "# newmodel.save('nmn_oversampled_deepchanel6_5.h5')\n",
    "\n",
    "make_roc(val_target, predicted_val)"
   ]
  },
  {
   "cell_type": "code",
   "execution_count": null,
   "metadata": {},
   "outputs": [],
   "source": [
    "print(np.shape(xx_res))\n"
   ]
  }
 ],
 "metadata": {
  "kernelspec": {
   "display_name": "Python 3",
   "language": "python",
   "name": "python3"
  },
  "language_info": {
   "codemirror_mode": {
    "name": "ipython",
    "version": 3
   },
   "file_extension": ".py",
   "mimetype": "text/x-python",
   "name": "python",
   "nbconvert_exporter": "python",
   "pygments_lexer": "ipython3",
   "version": "3.6.10"
  }
 },
 "nbformat": 4,
 "nbformat_minor": 4
}
